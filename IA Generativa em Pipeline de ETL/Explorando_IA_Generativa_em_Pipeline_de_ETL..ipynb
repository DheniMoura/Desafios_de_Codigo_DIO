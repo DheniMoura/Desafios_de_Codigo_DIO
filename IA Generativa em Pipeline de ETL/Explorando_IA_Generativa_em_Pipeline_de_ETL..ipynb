{
 "cells": [
  {
   "cell_type": "markdown",
   "metadata": {},
   "source": [
    "**Context:** You are a data scientist at Santander and have been tasked with engaging your customers in a more personalized way. Your goal is to use the power of Generative AI to create personalized marketing messages that will be delivered to each customer.\n",
    "\n",
    "**Problem Conditions:**\n",
    "\n",
    "1. You received a simple spreadsheet, in CSV format ('SDW2023.csv'), with a list of bank user IDs:\n",
    "   ```\n",
    "   UserID\n",
    "   1\n",
    "   two\n",
    "   3\n",
    "   4\n",
    "   5\n",
    "   ```\n",
    "2. Your job is to consume the `GET https://sdw-2023-prd.up.railway.app/users/{id}` endpoint (Santander Dev Week 2023 API) to get the data of each customer.\n",
    "3. After getting customer data, you will use the ChatGPT API (OpenAI) to generate a personalized marketing message for each customer. This message should emphasize the importance of investments.\n",
    "4. Once the message to each customer is ready, you'll send that information back to the API, updating each user's \"news\" list using the `PUT https://sdw-2023-prd.up' endpoint .railway.app/users/{id}`."
   ]
  },
  {
   "cell_type": "markdown",
   "metadata": {},
   "source": [
    "# Extract\n",
    "Extracting list of user IDs from CSV file. For each ID, make a GET request to get the corresponding user data."
   ]
  },
  {
   "cell_type": "code",
   "execution_count": 1,
   "metadata": {},
   "outputs": [
    {
     "name": "stdout",
     "output_type": "stream",
     "text": [
      "[77, 78, 79]\n"
     ]
    }
   ],
   "source": [
    "import pandas as pd\n",
    "\n",
    "df = pd.read_csv(\"usuarios.csv\")\n",
    "user_ids = df[\"UserID\"].tolist()\n",
    "print(user_ids)\n"
   ]
  },
  {
   "cell_type": "markdown",
   "metadata": {},
   "source": [
    "Consuming an API from the DIO repository"
   ]
  },
  {
   "cell_type": "code",
   "execution_count": 2,
   "metadata": {},
   "outputs": [],
   "source": [
    "import requests\n",
    "import json\n",
    "\n",
    "\n",
    "api_url = \"https://sdw-2023-prd.up.railway.app\"\n",
    "\n",
    "\n",
    "def get_user(id):\n",
    "    response = requests.get(f'{api_url}/users/{id}')\n",
    "    return response.json() if response.status_code == 200 else None"
   ]
  },
  {
   "cell_type": "code",
   "execution_count": 3,
   "metadata": {},
   "outputs": [
    {
     "name": "stdout",
     "output_type": "stream",
     "text": [
      "{\n",
      "  \"id\": 79,\n",
      "  \"name\": \"Carla\",\n",
      "  \"account\": {\n",
      "    \"id\": 86,\n",
      "    \"number\": \"0113-1\",\n",
      "    \"agency\": \"2039\",\n",
      "    \"balance\": 0.0,\n",
      "    \"limit\": 500.0\n",
      "  },\n",
      "  \"card\": {\n",
      "    \"id\": 79,\n",
      "    \"number\": \"**** **** **** 2511\",\n",
      "    \"limit\": 1000.0\n",
      "  },\n",
      "  \"features\": [],\n",
      "  \"news\": []\n",
      "}\n"
     ]
    }
   ],
   "source": [
    "# Percorre a lista de user_ids e para cada ida vai fazer uma chamada na api\n",
    "users = [user for id in user_ids if (user := get_user(id)) is not None]\n",
    "print(json.dumps(user, indent=2))"
   ]
  },
  {
   "cell_type": "markdown",
   "metadata": {},
   "source": [
    "# Transform\n",
    "Generating a personalized message for each user using the OpenAI GPT-3 API"
   ]
  },
  {
   "cell_type": "code",
   "execution_count": 4,
   "metadata": {},
   "outputs": [],
   "source": [
    "#instalando \n",
    "#!pip install openai"
   ]
  },
  {
   "cell_type": "code",
   "execution_count": 5,
   "metadata": {},
   "outputs": [],
   "source": [
    "openai_api_key = \"insira aqui a sua chave\""
   ]
  },
  {
   "cell_type": "code",
   "execution_count": 6,
   "metadata": {},
   "outputs": [],
   "source": [
    "import openai\n",
    "\n",
    "openai.api_key = openai_api_key"
   ]
  },
  {
   "cell_type": "code",
   "execution_count": 7,
   "metadata": {},
   "outputs": [],
   "source": [
    "# Função para gerar a mensagem para os usuários\n",
    "def generate_ai_news(user):\n",
    "    completion = openai.ChatCompletion.create(\n",
    "        model=\"gpt-3.5-turbo\",\n",
    "        messages=[\n",
    "        {\n",
    "            \"role\": \"system\", \"content\": \"You are a banking marketing expert.\"\n",
    "        },\n",
    "        {\n",
    "            \"role\": \"user\", \"content\": f\"create a message for {user['name']} about the importance of investments (maximum 100 characters)\"\n",
    "        }\n",
    "    ]\n",
    "    )\n",
    "\n",
    "    return completion.choices[0].message.content.strip('\\\"')\n"
   ]
  },
  {
   "cell_type": "code",
   "execution_count": null,
   "metadata": {},
   "outputs": [],
   "source": [
    "for user in users:\n",
    "    news = generate_ai_news(user)\n",
    "    print(news)\n",
    "    user['news'].append({\n",
    "        \"description\" : news\n",
    "    })"
   ]
  },
  {
   "cell_type": "markdown",
   "metadata": {},
   "source": [
    "# LOAD\n",
    "Update each user's ta with the new generated message."
   ]
  },
  {
   "cell_type": "code",
   "execution_count": null,
   "metadata": {},
   "outputs": [],
   "source": [
    "def update_user(user):\n",
    "    response = requests.put(f\"{api_url}/users/{user['id']}\", json=user)\n",
    "    return True if response.status_code == 200 else False\n",
    "\n",
    "for user in users:\n",
    "    success = update_user(user)\n",
    "    print(f\"User {user['name']} updated? {success}!\")"
   ]
  }
 ],
 "metadata": {
  "kernelspec": {
   "display_name": "Python 3",
   "language": "python",
   "name": "python3"
  },
  "language_info": {
   "codemirror_mode": {
    "name": "ipython",
    "version": 3
   },
   "file_extension": ".py",
   "mimetype": "text/x-python",
   "name": "python",
   "nbconvert_exporter": "python",
   "pygments_lexer": "ipython3",
   "version": "3.9.13"
  },
  "orig_nbformat": 4
 },
 "nbformat": 4,
 "nbformat_minor": 2
}
